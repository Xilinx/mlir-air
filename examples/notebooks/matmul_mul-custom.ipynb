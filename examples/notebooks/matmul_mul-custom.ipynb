{
 "cells": [
  {
   "cell_type": "code",
   "execution_count": 1,
   "metadata": {},
   "outputs": [],
   "source": [
    "import torch\n",
    "import torch._dynamo as dynamo\n",
    "\n",
    "from air.backend import linalg_on_tensors as backend"
   ]
  },
  {
   "cell_type": "code",
   "execution_count": 2,
   "metadata": {},
   "outputs": [],
   "source": [
    "# customize the linalg to air pass pipeline\n",
    "pipeline = \"builtin.module(\"+\",\".join([\n",
    "    \"air-linalg-name\",\n",
    "    \"air-linalg-codegen{input-filter=linalg.matmul1 herd-size=8,2 l1-tile-size=16,64,32}\",\n",
    "    \"air-linalg-codegen{input-filter=linalg.generic2 herd-size=8,1 l1-tile-size=16,128,32}\",\n",
    "    \"air-rm-linalg-name\",\n",
    "    \"canonicalize\", \"cse\",\n",
    "    \"air-par-to-herd\",\n",
    "    \"air-copy-to-dma\",\n",
    "    \"canonicalize\", \"cse\"\n",
    "])+\")\"\n",
    "air_backend = backend.make_dynamo_backend(pipeline, partition_offset=[20,3])"
   ]
  },
  {
   "cell_type": "code",
   "execution_count": 3,
   "metadata": {},
   "outputs": [],
   "source": [
    "SIZE = [128,128]\n",
    "DTYPE = torch.int32\n",
    "\n",
    "class MMult_Mult(torch.nn.Module):\n",
    "    def __init__(self):\n",
    "        super().__init__()\n",
    "\n",
    "    def forward(self, a, b, c):\n",
    "        x = torch.mm(b,c)\n",
    "        y = a*x\n",
    "        return y"
   ]
  },
  {
   "cell_type": "code",
   "execution_count": 4,
   "metadata": {},
   "outputs": [],
   "source": [
    "a = torch.randint(100, SIZE, dtype=DTYPE)\n",
    "b = torch.randint(100, SIZE, dtype=DTYPE)\n",
    "c = torch.randint(100, SIZE, dtype=DTYPE)\n",
    "\n",
    "model = MMult_Mult()"
   ]
  },
  {
   "cell_type": "code",
   "execution_count": 5,
   "metadata": {},
   "outputs": [
    {
     "name": "stdout",
     "output_type": "stream",
     "text": [
      " AIE Compilation: ━━━━━━━━━━━━━━━━━━━━━━━━━ 100% 0:00:00 0:00:04 17/17 1 Workers\n",
      " AIE Compilation: ━━━━━━━━━━━━━━━━━━━━━━━━━━━ 100% 0:00:00 0:00:01 9/9 1 Workers\n",
      "input:\n",
      "tensor([[59, 73, 74,  ..., 13, 26, 29],\n",
      "        [24, 41, 86,  ..., 23, 72, 59],\n",
      "        [32, 76, 84,  ..., 42, 82, 94],\n",
      "        ...,\n",
      "        [44, 33,  5,  ..., 37, 33, 57],\n",
      "        [54, 87, 93,  ..., 88, 29, 80],\n",
      "        [38, 26, 36,  ..., 23, 41, 96]], dtype=torch.int32)\n",
      "tensor([[91, 29, 81,  ..., 89, 52, 72],\n",
      "        [23, 76, 45,  ..., 28, 80, 68],\n",
      "        [84, 32, 60,  ..., 78, 44, 66],\n",
      "        ...,\n",
      "        [46, 50, 74,  ..., 45, 62, 74],\n",
      "        [ 5, 13, 66,  ..., 41, 92, 19],\n",
      "        [96,  6, 75,  ..., 59, 12, 89]], dtype=torch.int32)\n",
      "tensor([[56, 93, 53,  ..., 88, 93, 31],\n",
      "        [60, 60, 90,  ..., 64, 18, 86],\n",
      "        [30, 19, 89,  ..., 49, 28, 43],\n",
      "        ...,\n",
      "        [73, 63, 84,  ..., 87,  6, 52],\n",
      "        [59, 39, 73,  ..., 93, 81, 15],\n",
      "        [24, 69, 83,  ..., 19, 40, 44]], dtype=torch.int32)\n",
      "output:\n",
      "tensor([[17243930, 25237487, 23179760,  ...,  4172519,  8472308,  9333882],\n",
      "        [ 7052808, 14338069, 27784020,  ...,  7598855, 22943016, 18909382],\n",
      "        [10136832, 25741200, 27957384,  ..., 14349258, 27528712, 29683696],\n",
      "        ...,\n",
      "        [13173864, 11073843,  1582985,  ..., 12024186,  9966033, 18140079],\n",
      "        [15383466, 27340707, 26041023,  ..., 28193880,  8527276, 24290320],\n",
      "        [11532240,  9400508, 12117852,  ...,  7763305, 12973179, 31283328]],\n",
      "       dtype=torch.int32)\n"
     ]
    }
   ],
   "source": [
    "# run the model on the device\n",
    "dynamo_model = dynamo.optimize(air_backend)(model)\n",
    "result = dynamo_model(a, b, c)\n",
    "\n",
    "# print the results\n",
    "print(f\"input:\\n{a}\\n{b}\\n{c}\\noutput:\\n{result}\")"
   ]
  },
  {
   "cell_type": "code",
   "execution_count": 6,
   "metadata": {},
   "outputs": [
    {
     "name": "stdout",
     "output_type": "stream",
     "text": [
      "PASS!\n"
     ]
    }
   ],
   "source": [
    "# check the results\n",
    "if torch.equal(a*torch.mm(b,c),result):\n",
    "    print(\"PASS!\")\n",
    "else:\n",
    "    print(\"failed.\")"
   ]
  },
  {
   "cell_type": "markdown",
   "metadata": {},
   "source": [
    "Copyright (C) 2023, Advanced Micro Devices, Inc. All rights reserved.\n",
    "\n",
    "SPDX-License-Identifier: MIT"
   ]
  }
 ],
 "metadata": {
  "kernelspec": {
   "display_name": "air-mlir",
   "language": "python",
   "name": "air-mlir"
  },
  "language_info": {
   "codemirror_mode": {
    "name": "ipython",
    "version": 3
   },
   "file_extension": ".py",
   "mimetype": "text/x-python",
   "name": "python",
   "nbconvert_exporter": "python",
   "pygments_lexer": "ipython3",
   "version": "3.8.2"
  }
 },
 "nbformat": 4,
 "nbformat_minor": 4
}
