{
 "cells": [
  {
   "cell_type": "code",
   "execution_count": 1,
   "metadata": {},
   "outputs": [],
   "source": [
    "import torch\n",
    "import torch._dynamo as dynamo\n",
    "\n",
    "from air.backend import linalg_on_tensors as backend"
   ]
  },
  {
   "cell_type": "code",
   "execution_count": 2,
   "metadata": {},
   "outputs": [],
   "source": [
    "SIZE = [128,128]\n",
    "DTYPE = torch.int32\n",
    "\n",
    "class MMult_Mult(torch.nn.Module):\n",
    "    def __init__(self):\n",
    "        super().__init__()\n",
    "\n",
    "    def forward(self, a, b, c):\n",
    "        x = torch.mm(b,c)\n",
    "        y = a*x\n",
    "        return y"
   ]
  },
  {
   "cell_type": "code",
   "execution_count": 3,
   "metadata": {},
   "outputs": [],
   "source": [
    "air_backend = backend.make_dynamo_backend()"
   ]
  },
  {
   "cell_type": "code",
   "execution_count": 4,
   "metadata": {},
   "outputs": [],
   "source": [
    "a = torch.randint(100, SIZE, dtype=DTYPE)\n",
    "b = torch.randint(100, SIZE, dtype=DTYPE)\n",
    "c = torch.randint(100, SIZE, dtype=DTYPE)\n",
    "\n",
    "model = MMult_Mult()"
   ]
  },
  {
   "cell_type": "code",
   "execution_count": 5,
   "metadata": {},
   "outputs": [
    {
     "name": "stdout",
     "output_type": "stream",
     "text": [
      " AIE Compilation: ━━━━━━━━━━━━━━━━━━━━━━━━━ 100% 0:00:00 0:00:02 17/17 1 Workers\n",
      " AIE Compilation: ━━━━━━━━━━━━━━━━━━━━━━━━━━━ 100% 0:00:00 0:00:00 5/5 1 Workers\n",
      "input:\n",
      "tensor([[36, 72, 56,  ..., 92, 96, 45],\n",
      "        [20, 33,  5,  ..., 86, 35, 28],\n",
      "        [24, 60, 64,  ..., 79, 17,  9],\n",
      "        ...,\n",
      "        [33, 40, 64,  ..., 66, 75, 74],\n",
      "        [68, 92, 11,  ..., 37, 33, 65],\n",
      "        [69, 98, 37,  ..., 26, 31, 41]], dtype=torch.int32)\n",
      "tensor([[76, 25, 28,  ..., 90, 12,  2],\n",
      "        [87, 31, 22,  ..., 66, 17, 22],\n",
      "        [96, 11, 38,  ..., 45, 68, 59],\n",
      "        ...,\n",
      "        [30, 92, 82,  ..., 51, 31, 16],\n",
      "        [15, 25, 63,  ..., 65,  0, 52],\n",
      "        [83, 33, 49,  ..., 20, 45, 58]], dtype=torch.int32)\n",
      "tensor([[55,  1, 51,  ..., 27, 82, 87],\n",
      "        [90, 42, 89,  ..., 76, 60, 89],\n",
      "        [68,  6, 66,  ...,  6, 86, 44],\n",
      "        ...,\n",
      "        [89, 38, 15,  ..., 21, 11, 61],\n",
      "        [56, 25, 47,  ..., 44, 47, 27],\n",
      "        [47, 51, 30,  ..., 17, 50, 22]], dtype=torch.int32)\n",
      "output:\n",
      "tensor([[10733040, 18855576, 15610560,  ..., 26851488, 26236224, 11565765],\n",
      "        [ 6169660,  9539739,  1428725,  ..., 27655966, 10851505,  7421232],\n",
      "        [ 8191032, 17931120, 20616256,  ..., 28539856,  5914657,  2861424],\n",
      "        ...,\n",
      "        [11129019, 11693600, 18884416,  ..., 23291532, 23989200, 23399096],\n",
      "        [20563200, 25391724,  2750462,  ..., 10953739,  9255741, 16350815],\n",
      "        [21746040, 28013594, 11256066,  ...,  8225620, 10107705, 11315344]],\n",
      "       dtype=torch.int32)\n"
     ]
    }
   ],
   "source": [
    "# run the model on the device\n",
    "dynamo_model = dynamo.optimize(air_backend)(model)\n",
    "result = dynamo_model(a, b, c)\n",
    "\n",
    "# print the results\n",
    "print(f\"input:\\n{a}\\n{b}\\n{c}\\noutput:\\n{result}\")"
   ]
  },
  {
   "cell_type": "code",
   "execution_count": 6,
   "metadata": {},
   "outputs": [
    {
     "name": "stdout",
     "output_type": "stream",
     "text": [
      "PASS!\n"
     ]
    }
   ],
   "source": [
    "# check the results\n",
    "if torch.equal(a*torch.mm(b,c),result):\n",
    "    print(\"PASS!\")\n",
    "else:\n",
    "    print(\"failed.\")"
   ]
  },
  {
   "cell_type": "markdown",
   "metadata": {},
   "source": [
    "Copyright (C) 2023, Advanced Micro Devices, Inc. All rights reserved.\n",
    "\n",
    "SPDX-License-Identifier: MIT"
   ]
  }
 ],
 "metadata": {
  "kernelspec": {
   "display_name": "air-mlir",
   "language": "python",
   "name": "air-mlir"
  },
  "language_info": {
   "codemirror_mode": {
    "name": "ipython",
    "version": 3
   },
   "file_extension": ".py",
   "mimetype": "text/x-python",
   "name": "python",
   "nbconvert_exporter": "python",
   "pygments_lexer": "ipython3",
   "version": "3.8.2"
  }
 },
 "nbformat": 4,
 "nbformat_minor": 4
}
